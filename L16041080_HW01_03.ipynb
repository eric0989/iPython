{
 "cells": [
  {
   "cell_type": "markdown",
   "metadata": {},
   "source": [
    "# Elementary Numerical Partial Differential Equations\\\\\n",
    "\n",
    "## Homework 1\\\\\n",
    "\n",
    "* Derive a finite difference approximation of $u'(x)$ using\n",
    "$u(x-h)$, $u(x)$, $u(x+h)$ and $u(x+2h)$.\n",
    "\n",
    "* Consider the boundary value problem (BVP)\n",
    "\n",
    "\\begin{align*}\n",
    " u''(x) &= f(x), \\quad -1 < x < 1,\\\\\n",
    "u(-1)&=\\alpha,\\\\\n",
    "u(1)&=\\beta.\\\\\n",
    "\\end{align*}\n",
    "\n",
    "\n",
    "Implement (2.10) to write a program to solve the BVP with various\n",
    "grid sizes and boundary conditions as follows\n",
    "\n",
    "\n",
    "\n",
    "- $f(x)=12x^2,\\quad \\alpha=\\beta=1.$\n",
    "\n",
    "Discuss the results."
   ]
  },
  {
   "cell_type": "code",
   "execution_count": 1,
   "metadata": {
    "collapsed": true
   },
   "outputs": [],
   "source": [
    "from scipy.integrate import odeint\n",
    "from scipy.linalg import solve\n",
    "import matplotlib.pyplot as plt\n",
    "import numpy as np\n",
    "%matplotlib inline"
   ]
  },
  {
   "cell_type": "code",
   "execution_count": 2,
   "metadata": {
    "collapsed": true
   },
   "outputs": [],
   "source": [
    "def f(x):\n",
    "    f = 12*x**2\n",
    "    return f\n",
    "def u(x):\n",
    "    u = x**4\n",
    "    return u"
   ]
  },
  {
   "cell_type": "code",
   "execution_count": 3,
   "metadata": {
    "collapsed": true
   },
   "outputs": [],
   "source": [
    "a = -1.0\n",
    "b = 1.0\n",
    "a1 = 1\n",
    "b1 = 1\n",
    "x = np.linspace(a,b)  # x-axis"
   ]
  },
  {
   "cell_type": "code",
   "execution_count": 4,
   "metadata": {
    "collapsed": true
   },
   "outputs": [],
   "source": [
    "def sol(m):\n",
    "    h = (b-a)/(m+1)\n",
    "    \n",
    "# {create matrix A    \n",
    "    A1 = np.zeros([m])\n",
    "    A1[0:0+2] = [-2,1]\n",
    "    for i in range(1,m-1):\n",
    "        A2 = np.zeros([m])\n",
    "        A2[i-1:i-1+3] = [1,-2,1]\n",
    "        A1 = np.vstack([A1,A2])\n",
    "    A3 = np.zeros([m])\n",
    "    A3[m-2:m-2+2] = [1,-2]\n",
    "    A = np.vstack([A1,A3])\n",
    "# }end create\n",
    "\n",
    "# {create F\n",
    "    F = np.zeros([m])\n",
    "    for i in range(m):\n",
    "        j = i+1\n",
    "        if i==0:\n",
    "            F[i] = f(-1+j*h)*h**2 - a1\n",
    "        elif i==m-1:\n",
    "            F[i] = f(-1+j*h)*h**2 - b1\n",
    "        else:\n",
    "            F[i] = f(-1+j*h)*h**2\n",
    "# }end create\n",
    "\n",
    "    S = solve(A,np.transpose(F))\n",
    "    x_nd = np.linspace(a,b,m+2)  # approximate nodes\n",
    "\n",
    "# {create y\n",
    "    temp = np.zeros([m+2])\n",
    "    temp[1:1+m] = S\n",
    "    temp[0] = a1\n",
    "    temp[m+1] = b1\n",
    "    y = temp\n",
    "# }end create\n",
    "  \n",
    "    err = abs( u(x_nd) - y )\n",
    "    m_norm = max(err)\n",
    "    \n",
    "    return x_nd, y, m_norm"
   ]
  },
  {
   "cell_type": "code",
   "execution_count": 5,
   "metadata": {
    "collapsed": true
   },
   "outputs": [],
   "source": [
    "norm = np.zeros([5])\n",
    "H = np.zeros([5])"
   ]
  },
  {
   "cell_type": "code",
   "execution_count": 6,
   "metadata": {
    "collapsed": false
   },
   "outputs": [
    {
     "name": "stdout",
     "output_type": "stream",
     "text": [
      "For h = 0.20000   ,  max_norm is 4.000000e-02\n"
     ]
    }
   ],
   "source": [
    "x_nd = sol(9)[0]\n",
    "y = sol(9)[1]\n",
    "norm[0] = sol(9)[2]\n",
    "H[0] = (b-a)/(9+1)\n",
    "print 'For h = %.5f' %H[0], '  ,  max_norm is %e' %norm[0]"
   ]
  },
  {
   "cell_type": "code",
   "execution_count": 7,
   "metadata": {
    "collapsed": false
   },
   "outputs": [
    {
     "data": {
      "image/png": "[encoded data removed]",
      "text/plain": [
       "<matplotlib.figure.Figure at 0x6a40940>"
      ]
     },
     "metadata": {},
     "output_type": "display_data"
    }
   ],
   "source": [
    "plt.plot(x_nd,y,'bo-',label=\"Numerical sol\")\n",
    "plt.plot(x,u(x),'k-',label=\"Exact sol\")\n",
    "plt.title(\"Take m = 9\")\n",
    "plt.legend()\n",
    "plt.show()"
   ]
  },
  {
   "cell_type": "code",
   "execution_count": 8,
   "metadata": {
    "collapsed": false
   },
   "outputs": [
    {
     "name": "stdout",
     "output_type": "stream",
     "text": [
      "For h = 0.02000   ,  max_norm is 4.000000e-04\n",
      "For h = 0.00400   ,  max_norm is 1.600000e-05\n",
      "For h = 0.00286   ,  max_norm is 8.163265e-06\n",
      "For h = 0.00200   ,  max_norm is 4.000000e-06\n"
     ]
    }
   ],
   "source": [
    "M = [99,499,699,999]\n",
    "i = 1\n",
    "for j in M:\n",
    "    x_nd = sol(j)[0]\n",
    "    y = sol(j)[1]\n",
    "    norm[i] = sol(j)[2]\n",
    "    H[i] = (b-a)/(j+1)\n",
    "    print 'For h = %.5f' %H[i], '  ,  max_norm is %e' %norm[i]\n",
    "    i = i+1"
   ]
  },
  {
   "cell_type": "code",
   "execution_count": 9,
   "metadata": {
    "collapsed": false
   },
   "outputs": [
    {
     "data": {
      "image/png": "[encoded data removed]",
      "text/plain": [
       "<matplotlib.figure.Figure at 0x6a40400>"
      ]
     },
     "metadata": {},
     "output_type": "display_data"
    }
   ],
   "source": [
    "plt.loglog(H,norm,'ro-')\n",
    "plt.xlabel(\"Take h\")\n",
    "plt.ylabel(\"Error in max_norm\")\n",
    "plt.title(\"Convergence\")\n",
    "plt.show()"
   ]
  },
  {
   "cell_type": "code",
   "execution_count": 10,
   "metadata": {
    "collapsed": false
   },
   "outputs": [
    {
     "name": "stdout",
     "output_type": "stream",
     "text": [
      "ln(err) = 2.00000 *ln(h) + -1.919440e-09\n",
      "\n",
      "        ( err = c*h^p  =>  ln(err) = p*ln(h) + ln(c) )\n"
     ]
    }
   ],
   "source": [
    "data = np.vstack([np.log(H), np.ones(len(H))]).T\n",
    "p, q = np.linalg.lstsq(data, np.log(norm))[0]\n",
    "print 'ln(err) = %.5f' %p, '*ln(h) + %e' %q\n",
    "print\n",
    "print '        ( err = c*h^p  =>  ln(err) = p*ln(h) + ln(c) )'"
   ]
  },
  {
   "cell_type": "code",
   "execution_count": 11,
   "metadata": {
    "collapsed": false
   },
   "outputs": [
    {
     "data": {
      "image/png": "[encoded data removed]",
      "text/plain": [
       "<matplotlib.figure.Figure at 0x77f5c18>"
      ]
     },
     "metadata": {},
     "output_type": "display_data"
    }
   ],
   "source": [
    "plt.loglog(H,norm,'ro')\n",
    "plt.loglog(H,np.exp(q)*H**p,'b',label=\"least sq.\")\n",
    "# err = c*h^p => ln(err) = p*ln(h)+ln(c), where ln(c) = q\n",
    "plt.xlabel(\"Take h\")\n",
    "plt.ylabel(\"Error in max_norm\")\n",
    "plt.title(\"Convergence\")\n",
    "plt.legend()\n",
    "plt.show()"
   ]
  }
 ],
 "metadata": {
  "kernelspec": {
   "display_name": "Python 2",
   "language": "python",
   "name": "python2"
  },
  "language_info": {
   "codemirror_mode": {
    "name": "ipython",
    "version": 2
   },
   "file_extension": ".py",
   "mimetype": "text/x-python",
   "name": "python",
   "nbconvert_exporter": "python",
   "pygments_lexer": "ipython2",
   "version": "2.7.11"
  }
 },
 "nbformat": 4,
 "nbformat_minor": 0
}
